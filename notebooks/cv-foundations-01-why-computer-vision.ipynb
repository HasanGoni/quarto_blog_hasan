{
  "cells": [
    {
      "cell_type": "raw",
      "metadata": {
        "vscode": {
          "languageId": "raw"
        }
      },
      "source": [
        "<a href=\"https://colab.research.google.com/github/hasangoni/quarto_blog_hasan/blob/main/notebooks/cv-foundations-01-why-computer-vision.ipynb\" target=\"_parent\"><img src=\"https://colab.research.google.com/assets/colab-badge.svg\" alt=\"Open In Colab\"/></a>\n",
        "\n",
        "# Computer Vision Foundations #1: Why Computer Vision?\n",
        "\n",
        "Welcome to the first notebook in our Computer Vision Foundations series! This notebook accompanies the blog post [\"Why Computer Vision? Teaching a Robot to See\"](https://hasanpasha.github.io/quarto_blog_hasan/posts/series/cv-foundations/01-why-computer-vision.html).\n",
        "\n",
        "## What You'll Learn\n",
        "- What computer vision really is\n",
        "- How computers \"see\" images as numbers\n",
        "- Your first computer vision program\n",
        "- Real-world applications that will inspire you\n"
      ]
    },
    {
      "cell_type": "raw",
      "metadata": {
        "vscode": {
          "languageId": "raw"
        }
      },
      "source": [
        "## Setup: Installing Required Libraries\n",
        "\n",
        "Let's start by installing the libraries we'll need:\n"
      ]
    },
    {
      "cell_type": "code",
      "execution_count": null,
      "metadata": {},
      "outputs": [],
      "source": [
        "# Install required packages\n",
        "%pip install opencv-python-headless matplotlib numpy pillow requests\n",
        "\n",
        "# Import libraries\n",
        "import numpy as np\n",
        "import matplotlib.pyplot as plt\n",
        "from PIL import Image\n",
        "import requests\n",
        "from io import BytesIO\n",
        "import cv2\n",
        "from google.colab.patches import cv2_imshow\n",
        "\n",
        "print(\"✅ All libraries installed and imported successfully!\")\n"
      ]
    },
    {
      "cell_type": "raw",
      "metadata": {
        "vscode": {
          "languageId": "raw"
        }
      },
      "source": [
        "## Your First Computer Vision Moment\n",
        "\n",
        "Let's see what happens when we show a computer an image. To the computer, this beautiful photo is just numbers!\n"
      ]
    },
    {
      "cell_type": "code",
      "execution_count": null,
      "metadata": {},
      "outputs": [],
      "source": [
        "# Load image from URL\n",
        "url = \"https://images.unsplash.com/photo-1601758228041-f3b2795255f1?ixlib=rb-4.0.3&ixid=M3wxMjA3fDB8MHxwaG90by1wYWdlfHx8fGVufDB8fHx8fA%3D%3D&auto=format&fit=crop&w=400&q=80\"\n",
        "response = requests.get(url)\n",
        "img = Image.open(BytesIO(response.content))\n",
        "img_array = np.array(img)\n",
        "\n",
        "# Display the image\n",
        "plt.figure(figsize=(8, 6))\n",
        "plt.imshow(img_array)\n",
        "plt.title(\"What We See: A Cute Cat and Dog\")\n",
        "plt.axis('off')\n",
        "plt.show()\n",
        "\n",
        "# Show what the computer sees\n",
        "print(f\"Image shape: {img_array.shape}\")  # height x width x color channels\n",
        "print(f\"Data type: {img_array.dtype}\")\n",
        "print(f\"First few pixels (top-left corner): {img_array[0, 0]}\")\n",
        "print(f\"Pixel value range: {img_array.min()} to {img_array.max()}\")\n"
      ]
    },
    {
      "cell_type": "raw",
      "metadata": {
        "vscode": {
          "languageId": "raw"
        }
      },
      "source": [
        "## Your First Computer Vision Program\n",
        "\n",
        "Let's create some magic! We'll apply simple filters to transform an image:\n"
      ]
    },
    {
      "cell_type": "code",
      "execution_count": null,
      "metadata": {},
      "outputs": [],
      "source": [
        "# Convert PIL image to OpenCV format\n",
        "img_cv = cv2.cvtColor(np.array(img), cv2.COLOR_RGB2BGR)\n",
        "\n",
        "# Apply different \"magic\" filters\n",
        "blur_img = cv2.GaussianBlur(img_cv, (51, 51), 0)\n",
        "edge_img = cv2.Canny(img_cv, 100, 200)\n",
        "\n",
        "# Convert back to RGB for display\n",
        "blur_img_rgb = cv2.cvtColor(blur_img, cv2.COLOR_BGR2RGB)\n",
        "\n",
        "# Display results\n",
        "plt.figure(figsize=(15, 5))\n",
        "\n",
        "plt.subplot(1, 3, 1)\n",
        "plt.imshow(img_array)\n",
        "plt.title(\"Original Image\")\n",
        "plt.axis('off')\n",
        "\n",
        "plt.subplot(1, 3, 2)\n",
        "plt.imshow(blur_img_rgb)\n",
        "plt.title(\"Dreamy Blur Effect\")\n",
        "plt.axis('off')\n",
        "\n",
        "plt.subplot(1, 3, 3)\n",
        "plt.imshow(edge_img, cmap='gray')\n",
        "plt.title(\"Edge Detection\")\n",
        "plt.axis('off')\n",
        "\n",
        "plt.tight_layout()\n",
        "plt.show()\n",
        "\n",
        "print(\"🎉 Congratulations! You just applied your first computer vision algorithms!\")\n"
      ]
    }
  ],
  "metadata": {
    "language_info": {
      "name": "python"
    }
  },
  "nbformat": 4,
  "nbformat_minor": 2
}
